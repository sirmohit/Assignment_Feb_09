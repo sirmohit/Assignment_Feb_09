{
 "cells": [
  {
   "cell_type": "markdown",
   "id": "dcc4f2f4",
   "metadata": {},
   "source": [
    "Q1. Create a vehicle class with an init method having instance variables as name_of_vehicle, max_speed\n",
    "    and average_of_vehicle."
   ]
  },
  {
   "cell_type": "code",
   "execution_count": 1,
   "id": "c01b282a",
   "metadata": {},
   "outputs": [
    {
     "name": "stdout",
     "output_type": "stream",
     "text": [
      "Name of Vehicle: Car\n",
      "Max Speed: 200 km/h\n",
      "Average Speed: 60 km/h\n"
     ]
    }
   ],
   "source": [
    "class Vehicle:\n",
    "    def __init__(self, name_of_vehicle, max_speed, average_of_vehicle):\n",
    "        self.name_of_vehicle = name_of_vehicle\n",
    "        self.max_speed = max_speed\n",
    "        self.average_of_vehicle = average_of_vehicle\n",
    "\n",
    "    def display_info(self):\n",
    "        \"\"\"Display information about the vehicle.\"\"\"\n",
    "        print(f\"Name of Vehicle: {self.name_of_vehicle}\")\n",
    "        print(f\"Max Speed: {self.max_speed} km/h\")\n",
    "        print(f\"Average Speed: {self.average_of_vehicle} km/h\")\n",
    "\n",
    "# Example usage:\n",
    "if __name__ == \"__main__\":\n",
    "    car = Vehicle(\"Car\", 200, 60)\n",
    "    car.display_info()\n"
   ]
  },
  {
   "cell_type": "markdown",
   "id": "cd5d5694",
   "metadata": {},
   "source": [
    "Q2. Create a child class car from the vehicle class created in Que 1, which will inherit the vehicle class.\n",
    "    Create a method named seating_capacity which takes capacity as an argument and returns the name of\n",
    "    the vehicle and its seating capacity."
   ]
  },
  {
   "cell_type": "code",
   "execution_count": 2,
   "id": "a2367421",
   "metadata": {},
   "outputs": [
    {
     "name": "stdout",
     "output_type": "stream",
     "text": [
      "Name of Vehicle: Toyota\n",
      "Max Speed: 180 km/h\n",
      "Average Speed: 4 km/h\n",
      "Toyota has a seating capacity of 5 passengers.\n"
     ]
    }
   ],
   "source": [
    "# Parent class: Vehicle\n",
    "class Vehicle:\n",
    "    def __init__(self, name_of_vehicle, max_speed, average_of_vehicle):\n",
    "        self.name_of_vehicle = name_of_vehicle\n",
    "        self.max_speed = max_speed\n",
    "        self.average_of_vehicle = average_of_vehicle\n",
    "\n",
    "    def display_info(self):\n",
    "        \"\"\"Display information about the vehicle.\"\"\"\n",
    "        print(f\"Name of Vehicle: {self.name_of_vehicle}\")\n",
    "        print(f\"Max Speed: {self.max_speed} km/h\")\n",
    "        print(f\"Average Speed: {self.average_of_vehicle} km/h\")\n",
    "\n",
    "\n",
    "# Child class: Car (inherits from Vehicle)\n",
    "class Car(Vehicle):\n",
    "    def __init__(self, name_of_vehicle, max_speed, average_of_vehicle):\n",
    "        super().__init__(name_of_vehicle, max_speed, average_of_vehicle)\n",
    "\n",
    "    def seating_capacity(self, capacity):\n",
    "        \"\"\"Return the name of the vehicle and its seating capacity.\"\"\"\n",
    "        return f\"{self.name_of_vehicle} has a seating capacity of {capacity} passengers.\"\n",
    "\n",
    "\n",
    "# Example usage:\n",
    "if __name__ == \"__main__\":\n",
    "    car = Car(\"Toyota\", 180, 4)\n",
    "    car.display_info()  # Display vehicle information\n",
    "    print(car.seating_capacity(5))  # Display seating capacity\n"
   ]
  },
  {
   "cell_type": "markdown",
   "id": "b9be046d",
   "metadata": {},
   "source": [
    "Q3. What is multiple inheritance? Write a python code to demonstrate multiple inheritance.\n",
    "\n",
    "Ans:-A class can be derived from more than one superclass. This is called multiple inheritance."
   ]
  },
  {
   "cell_type": "code",
   "execution_count": 3,
   "id": "7912d219",
   "metadata": {},
   "outputs": [
    {
     "name": "stdout",
     "output_type": "stream",
     "text": [
      "Mammals can give direct birth.\n",
      "Winged animals can flap.\n"
     ]
    }
   ],
   "source": [
    "#Example\n",
    "class Mammal:\n",
    "    def mammal_info(self):\n",
    "        print(\"Mammals can give direct birth.\")\n",
    "\n",
    "class WingedAnimal:\n",
    "    def winged_animal_info(self):\n",
    "        print(\"Winged animals can flap.\")\n",
    "\n",
    "class Bat(Mammal, WingedAnimal):\n",
    "    pass\n",
    "\n",
    "# create an object of Bat class\n",
    "b1 = Bat()\n",
    "\n",
    "b1.mammal_info()\n",
    "b1.winged_animal_info()"
   ]
  },
  {
   "cell_type": "markdown",
   "id": "b880acf3",
   "metadata": {},
   "source": [
    "Q4. What are getter and setter in python? Create a class and create a getter and a setter method in this\n",
    "class.\n",
    "\n",
    "Ans:-Getters and setters in Python are different from those in other OOPs languages. The primary use of getters and\n",
    "    setters is to ensure data encapsulation in object-oriented programs. In contrast to other object-oriented languages,\n",
    "    private variables in Python are not hidden fields.\n",
    "    \n",
    "    Getter:It's a method that gets the value of a specific attribute.\n",
    "    Setter:It's a method that sets the value of a specific attribute."
   ]
  },
  {
   "cell_type": "code",
   "execution_count": 4,
   "id": "9bc26025",
   "metadata": {},
   "outputs": [
    {
     "name": "stdout",
     "output_type": "stream",
     "text": [
      "10\n",
      "45\n"
     ]
    }
   ],
   "source": [
    "#Example\n",
    "class SampleClass:\n",
    "\n",
    "    def __init__(self, a):\n",
    "        ## private varibale or property in Python\n",
    "        self.__a = a\n",
    "\n",
    "    ## getter method to get the properties using an object\n",
    "    def get_a(self):\n",
    "        return self.__a\n",
    "\n",
    "    ## setter method to change the value 'a' using an object\n",
    "    def set_a(self, a):\n",
    "        self.__a = a\n",
    "## creating an object\n",
    "obj = SampleClass(10)\n",
    "\n",
    "## getting the value of 'a' using get_a() method\n",
    "print(obj.get_a())\n",
    "\n",
    "## setting a new value to the 'a' using set_a() method\n",
    "obj.set_a(45)\n",
    "\n",
    "print(obj.get_a())"
   ]
  },
  {
   "cell_type": "markdown",
   "id": "75773de2",
   "metadata": {},
   "source": [
    "Q5.What is method overriding in python? Write a python code to demonstrate method overriding.\n",
    "\n",
    "Ans:-Any object-oriented programming language can allow a subclass or child class to offer a customized implementation\n",
    "     of a method already supplied by one of its superclasses or parent classes. This capability is known as method overriding.\n",
    "     The term \"override\" refers to a method in a subclass that replaces a method in a superclass when both methods share \n",
    "     the same name, parameters, signature, and return type (or sub-type).\n",
    "\n"
   ]
  },
  {
   "cell_type": "code",
   "execution_count": 5,
   "id": "600ba94c",
   "metadata": {},
   "outputs": [
    {
     "name": "stdout",
     "output_type": "stream",
     "text": [
      "Inside Parent\n",
      "Inside Child\n"
     ]
    }
   ],
   "source": [
    "#Example  \n",
    "class Parent():    \n",
    "    def __init__(self):  \n",
    "        self.value = \"Inside Parent\"   \n",
    "    def show(self):  \n",
    "        print(self.value)         \n",
    "class Child(Parent):        \n",
    "    def __init__(self):  \n",
    "        self.value = \"Inside Child\"         \n",
    "    def show(self):  \n",
    "        print(self.value)    \n",
    "obj1 = Parent()  \n",
    "obj2 = Child()  \n",
    "obj1.show()  \n",
    "obj2.show()  \n"
   ]
  },
  {
   "cell_type": "code",
   "execution_count": null,
   "id": "5ded2fcb",
   "metadata": {},
   "outputs": [],
   "source": []
  }
 ],
 "metadata": {
  "kernelspec": {
   "display_name": "Python 3 (ipykernel)",
   "language": "python",
   "name": "python3"
  },
  "language_info": {
   "codemirror_mode": {
    "name": "ipython",
    "version": 3
   },
   "file_extension": ".py",
   "mimetype": "text/x-python",
   "name": "python",
   "nbconvert_exporter": "python",
   "pygments_lexer": "ipython3",
   "version": "3.9.13"
  }
 },
 "nbformat": 4,
 "nbformat_minor": 5
}
